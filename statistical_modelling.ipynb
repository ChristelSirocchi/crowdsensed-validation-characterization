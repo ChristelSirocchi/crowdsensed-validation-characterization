{
 "cells": [
  {
   "cell_type": "code",
   "execution_count": 2,
   "id": "257cf808",
   "metadata": {},
   "outputs": [],
   "source": [
    "# import python libraries\n",
    "\n",
    "import pandas as pd\n",
    "import matplotlib.pyplot as plt\n",
    "import numpy as np\n",
    "\n",
    "import seaborn as sns\n",
    "from scipy import stats"
   ]
  },
  {
   "cell_type": "code",
   "execution_count": 3,
   "id": "524337fa",
   "metadata": {},
   "outputs": [],
   "source": [
    "# set plotting settings\n",
    "%matplotlib inline\n",
    "from matplotlib import rcParams\n",
    "rcParams['font.family'] = 'sans-serif'\n",
    "rcParams['font.size'] = 18"
   ]
  },
  {
   "cell_type": "code",
   "execution_count": 4,
   "id": "2d640b5a",
   "metadata": {},
   "outputs": [],
   "source": [
    "# set seaborn style \n",
    "sns.set()\n",
    "sns.set_style(\"whitegrid\")"
   ]
  },
  {
   "cell_type": "code",
   "execution_count": 5,
   "id": "515b2a94",
   "metadata": {},
   "outputs": [],
   "source": [
    "# import spatial libraries\n",
    "import geopandas as gpd\n",
    "from shapely.geometry import Point,Polygon"
   ]
  },
  {
   "cell_type": "markdown",
   "id": "b313fd0b",
   "metadata": {},
   "source": [
    "### SPATIAL JOIN"
   ]
  },
  {
   "cell_type": "code",
   "execution_count": 46,
   "id": "66ae2ca7",
   "metadata": {},
   "outputs": [
    {
     "data": {
      "text/html": [
       "<div>\n",
       "<style scoped>\n",
       "    .dataframe tbody tr th:only-of-type {\n",
       "        vertical-align: middle;\n",
       "    }\n",
       "\n",
       "    .dataframe tbody tr th {\n",
       "        vertical-align: top;\n",
       "    }\n",
       "\n",
       "    .dataframe thead th {\n",
       "        text-align: right;\n",
       "    }\n",
       "</style>\n",
       "<table border=\"1\" class=\"dataframe\">\n",
       "  <thead>\n",
       "    <tr style=\"text-align: right;\">\n",
       "      <th></th>\n",
       "      <th>latitude</th>\n",
       "      <th>longitude</th>\n",
       "      <th>ppe</th>\n",
       "      <th>osm_id</th>\n",
       "      <th>highway</th>\n",
       "      <th>\"quality\"</th>\n",
       "      <th>\"passengers\"</th>\n",
       "      <th>\"updated_at\"</th>\n",
       "    </tr>\n",
       "  </thead>\n",
       "  <tbody>\n",
       "    <tr>\n",
       "      <th>0</th>\n",
       "      <td>42.823688</td>\n",
       "      <td>12.399041</td>\n",
       "      <td>0.249243</td>\n",
       "      <td>223578221</td>\n",
       "      <td>trunk</td>\n",
       "      <td>NaN</td>\n",
       "      <td>NaN</td>\n",
       "      <td>2018-03-20 13:11:32.790807</td>\n",
       "    </tr>\n",
       "    <tr>\n",
       "      <th>1</th>\n",
       "      <td>42.823504</td>\n",
       "      <td>12.399083</td>\n",
       "      <td>0.289182</td>\n",
       "      <td>223578221</td>\n",
       "      <td>trunk</td>\n",
       "      <td>NaN</td>\n",
       "      <td>NaN</td>\n",
       "      <td>2018-03-20 13:11:32.790807</td>\n",
       "    </tr>\n",
       "    <tr>\n",
       "      <th>2</th>\n",
       "      <td>42.825936</td>\n",
       "      <td>12.398878</td>\n",
       "      <td>0.253153</td>\n",
       "      <td>223578221</td>\n",
       "      <td>trunk</td>\n",
       "      <td>NaN</td>\n",
       "      <td>NaN</td>\n",
       "      <td>2018-03-20 13:11:32.790807</td>\n",
       "    </tr>\n",
       "    <tr>\n",
       "      <th>3</th>\n",
       "      <td>42.825747</td>\n",
       "      <td>12.398865</td>\n",
       "      <td>0.262400</td>\n",
       "      <td>223578221</td>\n",
       "      <td>trunk</td>\n",
       "      <td>NaN</td>\n",
       "      <td>NaN</td>\n",
       "      <td>2018-03-20 13:11:32.790807</td>\n",
       "    </tr>\n",
       "    <tr>\n",
       "      <th>4</th>\n",
       "      <td>42.825559</td>\n",
       "      <td>12.398853</td>\n",
       "      <td>0.543022</td>\n",
       "      <td>223578221</td>\n",
       "      <td>trunk</td>\n",
       "      <td>NaN</td>\n",
       "      <td>NaN</td>\n",
       "      <td>2018-03-20 13:11:32.790807</td>\n",
       "    </tr>\n",
       "  </tbody>\n",
       "</table>\n",
       "</div>"
      ],
      "text/plain": [
       "    latitude  longitude       ppe     osm_id highway   \"quality\"  \\\n",
       "0  42.823688  12.399041  0.249243  223578221   trunk         NaN   \n",
       "1  42.823504  12.399083  0.289182  223578221   trunk         NaN   \n",
       "2  42.825936  12.398878  0.253153  223578221   trunk         NaN   \n",
       "3  42.825747  12.398865  0.262400  223578221   trunk         NaN   \n",
       "4  42.825559  12.398853  0.543022  223578221   trunk         NaN   \n",
       "\n",
       "    \"passengers\"                \"updated_at\"  \n",
       "0            NaN  2018-03-20 13:11:32.790807  \n",
       "1            NaN  2018-03-20 13:11:32.790807  \n",
       "2            NaN  2018-03-20 13:11:32.790807  \n",
       "3            NaN  2018-03-20 13:11:32.790807  \n",
       "4            NaN  2018-03-20 13:11:32.790807  "
      ]
     },
     "execution_count": 46,
     "metadata": {},
     "output_type": "execute_result"
    }
   ],
   "source": [
    "# load SRS open dataset\n",
    "df = pd.read_csv(\"open_data.csv\") \n",
    "df.head()"
   ]
  },
  {
   "cell_type": "code",
   "execution_count": 6,
   "id": "85c7a056",
   "metadata": {},
   "outputs": [
    {
     "data": {
      "text/html": [
       "<div>\n",
       "<style scoped>\n",
       "    .dataframe tbody tr th:only-of-type {\n",
       "        vertical-align: middle;\n",
       "    }\n",
       "\n",
       "    .dataframe tbody tr th {\n",
       "        vertical-align: top;\n",
       "    }\n",
       "\n",
       "    .dataframe thead th {\n",
       "        text-align: right;\n",
       "    }\n",
       "</style>\n",
       "<table border=\"1\" class=\"dataframe\">\n",
       "  <thead>\n",
       "    <tr style=\"text-align: right;\">\n",
       "      <th></th>\n",
       "      <th>latitude</th>\n",
       "      <th>longitude</th>\n",
       "      <th>ppe</th>\n",
       "      <th>osm_id</th>\n",
       "      <th>road</th>\n",
       "      <th>timestamp</th>\n",
       "    </tr>\n",
       "  </thead>\n",
       "  <tbody>\n",
       "    <tr>\n",
       "      <th>0</th>\n",
       "      <td>42.823688</td>\n",
       "      <td>12.399041</td>\n",
       "      <td>0.249243</td>\n",
       "      <td>223578221</td>\n",
       "      <td>trunk</td>\n",
       "      <td>2018-03-20 13:11:32.790807</td>\n",
       "    </tr>\n",
       "    <tr>\n",
       "      <th>1</th>\n",
       "      <td>42.823504</td>\n",
       "      <td>12.399083</td>\n",
       "      <td>0.289182</td>\n",
       "      <td>223578221</td>\n",
       "      <td>trunk</td>\n",
       "      <td>2018-03-20 13:11:32.790807</td>\n",
       "    </tr>\n",
       "    <tr>\n",
       "      <th>2</th>\n",
       "      <td>42.825936</td>\n",
       "      <td>12.398878</td>\n",
       "      <td>0.253153</td>\n",
       "      <td>223578221</td>\n",
       "      <td>trunk</td>\n",
       "      <td>2018-03-20 13:11:32.790807</td>\n",
       "    </tr>\n",
       "    <tr>\n",
       "      <th>3</th>\n",
       "      <td>42.825747</td>\n",
       "      <td>12.398865</td>\n",
       "      <td>0.262400</td>\n",
       "      <td>223578221</td>\n",
       "      <td>trunk</td>\n",
       "      <td>2018-03-20 13:11:32.790807</td>\n",
       "    </tr>\n",
       "    <tr>\n",
       "      <th>4</th>\n",
       "      <td>42.825559</td>\n",
       "      <td>12.398853</td>\n",
       "      <td>0.543022</td>\n",
       "      <td>223578221</td>\n",
       "      <td>trunk</td>\n",
       "      <td>2018-03-20 13:11:32.790807</td>\n",
       "    </tr>\n",
       "  </tbody>\n",
       "</table>\n",
       "</div>"
      ],
      "text/plain": [
       "    latitude  longitude       ppe     osm_id   road  \\\n",
       "0  42.823688  12.399041  0.249243  223578221  trunk   \n",
       "1  42.823504  12.399083  0.289182  223578221  trunk   \n",
       "2  42.825936  12.398878  0.253153  223578221  trunk   \n",
       "3  42.825747  12.398865  0.262400  223578221  trunk   \n",
       "4  42.825559  12.398853  0.543022  223578221  trunk   \n",
       "\n",
       "                    timestamp  \n",
       "0  2018-03-20 13:11:32.790807  \n",
       "1  2018-03-20 13:11:32.790807  \n",
       "2  2018-03-20 13:11:32.790807  \n",
       "3  2018-03-20 13:11:32.790807  \n",
       "4  2018-03-20 13:11:32.790807  "
      ]
     },
     "execution_count": 6,
     "metadata": {},
     "output_type": "execute_result"
    }
   ],
   "source": [
    "# rename columns\n",
    "df.columns = [\"latitude\", \"longitude\", \"ppe\", \"osm_id\", \"road\", \"quality\", \"passengers\", \"timestamp\"] \n",
    "# drop quality and passenger columns (generally empty field)\n",
    "df = df.drop(columns=[\"quality\", \"passengers\"])\n",
    "\n",
    "df.head() "
   ]
  },
  {
   "cell_type": "code",
   "execution_count": 7,
   "id": "3bbd8210",
   "metadata": {},
   "outputs": [],
   "source": [
    "# add geometry\n",
    "geometry=[Point(xy) for xy in zip(df[\"longitude\"], df[\"latitude\"])] \n",
    "\n",
    "# create geodataframe (for plotting and spatial join)\n",
    "geo_df = gpd.GeoDataFrame(df, crs=\"EPSG:4326\", geometry=geometry) "
   ]
  },
  {
   "cell_type": "code",
   "execution_count": 8,
   "id": "49718c75",
   "metadata": {},
   "outputs": [],
   "source": [
    "# get countries borders\n",
    "world = gpd.read_file(gpd.datasets.get_path(\"naturalearth_lowres\"))\n",
    "world = world.to_crs(\"EPSG:4326\")\n",
    "#italy =  world[world.name == \"Italy\"]"
   ]
  },
  {
   "cell_type": "code",
   "execution_count": 9,
   "id": "b3ce9007",
   "metadata": {},
   "outputs": [
    {
     "data": {
      "text/html": [
       "<div>\n",
       "<style scoped>\n",
       "    .dataframe tbody tr th:only-of-type {\n",
       "        vertical-align: middle;\n",
       "    }\n",
       "\n",
       "    .dataframe tbody tr th {\n",
       "        vertical-align: top;\n",
       "    }\n",
       "\n",
       "    .dataframe thead th {\n",
       "        text-align: right;\n",
       "    }\n",
       "</style>\n",
       "<table border=\"1\" class=\"dataframe\">\n",
       "  <thead>\n",
       "    <tr style=\"text-align: right;\">\n",
       "      <th></th>\n",
       "      <th>latitude</th>\n",
       "      <th>longitude</th>\n",
       "      <th>ppe</th>\n",
       "      <th>osm_id</th>\n",
       "      <th>road</th>\n",
       "      <th>timestamp</th>\n",
       "      <th>geometry</th>\n",
       "      <th>country</th>\n",
       "    </tr>\n",
       "  </thead>\n",
       "  <tbody>\n",
       "    <tr>\n",
       "      <th>0</th>\n",
       "      <td>42.823688</td>\n",
       "      <td>12.399041</td>\n",
       "      <td>0.249243</td>\n",
       "      <td>223578221</td>\n",
       "      <td>trunk</td>\n",
       "      <td>2018-03-20 13:11:32.790807</td>\n",
       "      <td>POINT (12.39904 42.82369)</td>\n",
       "      <td>Italy</td>\n",
       "    </tr>\n",
       "    <tr>\n",
       "      <th>1</th>\n",
       "      <td>42.823504</td>\n",
       "      <td>12.399083</td>\n",
       "      <td>0.289182</td>\n",
       "      <td>223578221</td>\n",
       "      <td>trunk</td>\n",
       "      <td>2018-03-20 13:11:32.790807</td>\n",
       "      <td>POINT (12.39908 42.82350)</td>\n",
       "      <td>Italy</td>\n",
       "    </tr>\n",
       "    <tr>\n",
       "      <th>2</th>\n",
       "      <td>42.825936</td>\n",
       "      <td>12.398878</td>\n",
       "      <td>0.253153</td>\n",
       "      <td>223578221</td>\n",
       "      <td>trunk</td>\n",
       "      <td>2018-03-20 13:11:32.790807</td>\n",
       "      <td>POINT (12.39888 42.82594)</td>\n",
       "      <td>Italy</td>\n",
       "    </tr>\n",
       "    <tr>\n",
       "      <th>3</th>\n",
       "      <td>42.825747</td>\n",
       "      <td>12.398865</td>\n",
       "      <td>0.262400</td>\n",
       "      <td>223578221</td>\n",
       "      <td>trunk</td>\n",
       "      <td>2018-03-20 13:11:32.790807</td>\n",
       "      <td>POINT (12.39886 42.82575)</td>\n",
       "      <td>Italy</td>\n",
       "    </tr>\n",
       "    <tr>\n",
       "      <th>4</th>\n",
       "      <td>42.825559</td>\n",
       "      <td>12.398853</td>\n",
       "      <td>0.543022</td>\n",
       "      <td>223578221</td>\n",
       "      <td>trunk</td>\n",
       "      <td>2018-03-20 13:11:32.790807</td>\n",
       "      <td>POINT (12.39885 42.82556)</td>\n",
       "      <td>Italy</td>\n",
       "    </tr>\n",
       "  </tbody>\n",
       "</table>\n",
       "</div>"
      ],
      "text/plain": [
       "    latitude  longitude       ppe     osm_id   road  \\\n",
       "0  42.823688  12.399041  0.249243  223578221  trunk   \n",
       "1  42.823504  12.399083  0.289182  223578221  trunk   \n",
       "2  42.825936  12.398878  0.253153  223578221  trunk   \n",
       "3  42.825747  12.398865  0.262400  223578221  trunk   \n",
       "4  42.825559  12.398853  0.543022  223578221  trunk   \n",
       "\n",
       "                    timestamp                   geometry country  \n",
       "0  2018-03-20 13:11:32.790807  POINT (12.39904 42.82369)   Italy  \n",
       "1  2018-03-20 13:11:32.790807  POINT (12.39908 42.82350)   Italy  \n",
       "2  2018-03-20 13:11:32.790807  POINT (12.39888 42.82594)   Italy  \n",
       "3  2018-03-20 13:11:32.790807  POINT (12.39886 42.82575)   Italy  \n",
       "4  2018-03-20 13:11:32.790807  POINT (12.39885 42.82556)   Italy  "
      ]
     },
     "execution_count": 9,
     "metadata": {},
     "output_type": "execute_result"
    }
   ],
   "source": [
    "# add country name to dataframe points\n",
    "geo_countries = gpd.sjoin(geo_df, world, how=\"left\")\n",
    "geo_countries = geo_countries.drop(columns=[\"index_right\",\"pop_est\", \"continent\",\"iso_a3\",\"gdp_md_est\"])\n",
    "geo_countries = geo_countries.rename(columns={\"name\":\"country\"})\n",
    "geo_countries.head()"
   ]
  },
  {
   "cell_type": "code",
   "execution_count": 10,
   "id": "d71fcd5b",
   "metadata": {},
   "outputs": [
    {
     "data": {
      "text/plain": [
       "country\n",
       "Austria                         145\n",
       "Belgium                      123837\n",
       "Denmark                       35938\n",
       "France                          104\n",
       "Greece                        15510\n",
       "Hungary                      142523\n",
       "Italy                       2716890\n",
       "Moldova                         410\n",
       "Portugal                       1124\n",
       "Romania                      271571\n",
       "Slovakia                       2672\n",
       "Switzerland                     964\n",
       "United Kingdom               190657\n",
       "United States of America       9515\n",
       "dtype: int64"
      ]
     },
     "execution_count": 10,
     "metadata": {},
     "output_type": "execute_result"
    }
   ],
   "source": [
    "# calculate number of mapped points per country\n",
    "geo_countries.groupby([\"country\"]).size()"
   ]
  },
  {
   "cell_type": "code",
   "execution_count": 11,
   "id": "20f070de",
   "metadata": {},
   "outputs": [
    {
     "data": {
      "text/plain": [
       "country\n",
       "Austria                      0.00\n",
       "Belgium                      3.43\n",
       "Denmark                      0.99\n",
       "France                       0.00\n",
       "Greece                       0.43\n",
       "Hungary                      3.94\n",
       "Italy                       75.14\n",
       "Moldova                      0.01\n",
       "Portugal                     0.03\n",
       "Romania                      7.51\n",
       "Slovakia                     0.07\n",
       "Switzerland                  0.03\n",
       "United Kingdom               5.27\n",
       "United States of America     0.26\n",
       "dtype: float64"
      ]
     },
     "execution_count": 11,
     "metadata": {},
     "output_type": "execute_result"
    }
   ],
   "source": [
    "# calculate percentage of mapped points per country\n",
    "round(geo_countries.groupby([\"country\"]).size()/len(geo_countries)*100,2)"
   ]
  },
  {
   "cell_type": "code",
   "execution_count": 12,
   "id": "42be0e2c",
   "metadata": {},
   "outputs": [
    {
     "data": {
      "text/html": [
       "<div>\n",
       "<style scoped>\n",
       "    .dataframe tbody tr th:only-of-type {\n",
       "        vertical-align: middle;\n",
       "    }\n",
       "\n",
       "    .dataframe tbody tr th {\n",
       "        vertical-align: top;\n",
       "    }\n",
       "\n",
       "    .dataframe thead th {\n",
       "        text-align: right;\n",
       "    }\n",
       "</style>\n",
       "<table border=\"1\" class=\"dataframe\">\n",
       "  <thead>\n",
       "    <tr style=\"text-align: right;\">\n",
       "      <th></th>\n",
       "      <th>COD_REG</th>\n",
       "      <th>COD_PRO</th>\n",
       "      <th>COD_COM</th>\n",
       "      <th>NAME_COM</th>\n",
       "      <th>geometry</th>\n",
       "    </tr>\n",
       "  </thead>\n",
       "  <tbody>\n",
       "    <tr>\n",
       "      <th>0</th>\n",
       "      <td>1</td>\n",
       "      <td>4</td>\n",
       "      <td>4033</td>\n",
       "      <td>Brossasco</td>\n",
       "      <td>POLYGON ((7.28702 44.61072, 7.30248 44.60028, ...</td>\n",
       "    </tr>\n",
       "    <tr>\n",
       "      <th>1</th>\n",
       "      <td>1</td>\n",
       "      <td>4</td>\n",
       "      <td>4034</td>\n",
       "      <td>Busca</td>\n",
       "      <td>POLYGON ((7.51064 44.55156, 7.51302 44.55040, ...</td>\n",
       "    </tr>\n",
       "    <tr>\n",
       "      <th>2</th>\n",
       "      <td>1</td>\n",
       "      <td>4</td>\n",
       "      <td>4035</td>\n",
       "      <td>Camerana</td>\n",
       "      <td>POLYGON ((8.16128 44.45065, 8.16485 44.44369, ...</td>\n",
       "    </tr>\n",
       "    <tr>\n",
       "      <th>3</th>\n",
       "      <td>1</td>\n",
       "      <td>4</td>\n",
       "      <td>4036</td>\n",
       "      <td>Camo</td>\n",
       "      <td>POLYGON ((8.20767 44.69655, 8.20410 44.69307, ...</td>\n",
       "    </tr>\n",
       "    <tr>\n",
       "      <th>4</th>\n",
       "      <td>1</td>\n",
       "      <td>4</td>\n",
       "      <td>4037</td>\n",
       "      <td>Canale</td>\n",
       "      <td>POLYGON ((7.99000 44.82530, 7.99476 44.81834, ...</td>\n",
       "    </tr>\n",
       "  </tbody>\n",
       "</table>\n",
       "</div>"
      ],
      "text/plain": [
       "   COD_REG  COD_PRO  COD_COM   NAME_COM  \\\n",
       "0        1        4     4033  Brossasco   \n",
       "1        1        4     4034      Busca   \n",
       "2        1        4     4035   Camerana   \n",
       "3        1        4     4036       Camo   \n",
       "4        1        4     4037     Canale   \n",
       "\n",
       "                                            geometry  \n",
       "0  POLYGON ((7.28702 44.61072, 7.30248 44.60028, ...  \n",
       "1  POLYGON ((7.51064 44.55156, 7.51302 44.55040, ...  \n",
       "2  POLYGON ((8.16128 44.45065, 8.16485 44.44369, ...  \n",
       "3  POLYGON ((8.20767 44.69655, 8.20410 44.69307, ...  \n",
       "4  POLYGON ((7.99000 44.82530, 7.99476 44.81834, ...  "
      ]
     },
     "execution_count": 12,
     "metadata": {},
     "output_type": "execute_result"
    }
   ],
   "source": [
    "#import geoJson Italy cities\n",
    "italy_cities = gpd.read_file('geojson_italy_cities/italy_all_cities.geojson') \n",
    "italy_cities = italy_cities.drop(columns = [\"NOME_TED\",\"SHAPE_Leng\",\"SHAPE_Area\"])\n",
    "italy_cities = italy_cities.rename(columns={\"NOME_COM\": \"NAME_COM\", \"PRO_COM\": \"COD_COM\"})\n",
    "italy_cities.head()"
   ]
  },
  {
   "cell_type": "code",
   "execution_count": 13,
   "id": "be98c1b5",
   "metadata": {},
   "outputs": [
    {
     "data": {
      "text/html": [
       "<div>\n",
       "<style scoped>\n",
       "    .dataframe tbody tr th:only-of-type {\n",
       "        vertical-align: middle;\n",
       "    }\n",
       "\n",
       "    .dataframe tbody tr th {\n",
       "        vertical-align: top;\n",
       "    }\n",
       "\n",
       "    .dataframe thead th {\n",
       "        text-align: right;\n",
       "    }\n",
       "</style>\n",
       "<table border=\"1\" class=\"dataframe\">\n",
       "  <thead>\n",
       "    <tr style=\"text-align: right;\">\n",
       "      <th></th>\n",
       "      <th>COD_PRO</th>\n",
       "      <th>NAME_PRO</th>\n",
       "    </tr>\n",
       "  </thead>\n",
       "  <tbody>\n",
       "    <tr>\n",
       "      <th>0</th>\n",
       "      <td>1</td>\n",
       "      <td>Torino</td>\n",
       "    </tr>\n",
       "    <tr>\n",
       "      <th>1</th>\n",
       "      <td>2</td>\n",
       "      <td>Vercelli</td>\n",
       "    </tr>\n",
       "    <tr>\n",
       "      <th>2</th>\n",
       "      <td>3</td>\n",
       "      <td>Novara</td>\n",
       "    </tr>\n",
       "    <tr>\n",
       "      <th>3</th>\n",
       "      <td>4</td>\n",
       "      <td>Cuneo</td>\n",
       "    </tr>\n",
       "    <tr>\n",
       "      <th>4</th>\n",
       "      <td>5</td>\n",
       "      <td>Asti</td>\n",
       "    </tr>\n",
       "  </tbody>\n",
       "</table>\n",
       "</div>"
      ],
      "text/plain": [
       "   COD_PRO  NAME_PRO\n",
       "0        1    Torino\n",
       "1        2  Vercelli\n",
       "2        3    Novara\n",
       "3        4     Cuneo\n",
       "4        5      Asti"
      ]
     },
     "execution_count": 13,
     "metadata": {},
     "output_type": "execute_result"
    }
   ],
   "source": [
    "# import provinces names and codes (ISTAT)\n",
    "provinces = pd.read_csv(\"province_names.csv\", header = None)\n",
    "provinces.columns = [\"COD_PRO\", \"NAME_PRO\"]\n",
    "provinces.head()"
   ]
  },
  {
   "cell_type": "code",
   "execution_count": 14,
   "id": "3da405bc",
   "metadata": {},
   "outputs": [
    {
     "data": {
      "text/html": [
       "<div>\n",
       "<style scoped>\n",
       "    .dataframe tbody tr th:only-of-type {\n",
       "        vertical-align: middle;\n",
       "    }\n",
       "\n",
       "    .dataframe tbody tr th {\n",
       "        vertical-align: top;\n",
       "    }\n",
       "\n",
       "    .dataframe thead th {\n",
       "        text-align: right;\n",
       "    }\n",
       "</style>\n",
       "<table border=\"1\" class=\"dataframe\">\n",
       "  <thead>\n",
       "    <tr style=\"text-align: right;\">\n",
       "      <th></th>\n",
       "      <th>COD_REG</th>\n",
       "      <th>NAME_REG</th>\n",
       "    </tr>\n",
       "  </thead>\n",
       "  <tbody>\n",
       "    <tr>\n",
       "      <th>0</th>\n",
       "      <td>1</td>\n",
       "      <td>Piemonte</td>\n",
       "    </tr>\n",
       "    <tr>\n",
       "      <th>1</th>\n",
       "      <td>2</td>\n",
       "      <td>Valle d'Aosta</td>\n",
       "    </tr>\n",
       "    <tr>\n",
       "      <th>2</th>\n",
       "      <td>3</td>\n",
       "      <td>Lombardia</td>\n",
       "    </tr>\n",
       "    <tr>\n",
       "      <th>3</th>\n",
       "      <td>4</td>\n",
       "      <td>Trentino-Alto Adige</td>\n",
       "    </tr>\n",
       "    <tr>\n",
       "      <th>4</th>\n",
       "      <td>5</td>\n",
       "      <td>Veneto</td>\n",
       "    </tr>\n",
       "  </tbody>\n",
       "</table>\n",
       "</div>"
      ],
      "text/plain": [
       "   COD_REG             NAME_REG\n",
       "0        1             Piemonte\n",
       "1        2        Valle d'Aosta\n",
       "2        3            Lombardia\n",
       "3        4  Trentino-Alto Adige\n",
       "4        5               Veneto"
      ]
     },
     "execution_count": 14,
     "metadata": {},
     "output_type": "execute_result"
    }
   ],
   "source": [
    "# import region names and codes (ISTAT)\n",
    "regions = pd.read_csv(\"region_names.csv\", header = None)\n",
    "regions.columns = [\"COD_REG\", \"NAME_REG\"]\n",
    "regions.head()"
   ]
  },
  {
   "cell_type": "code",
   "execution_count": 15,
   "id": "f780c981",
   "metadata": {},
   "outputs": [
    {
     "data": {
      "text/html": [
       "<div>\n",
       "<style scoped>\n",
       "    .dataframe tbody tr th:only-of-type {\n",
       "        vertical-align: middle;\n",
       "    }\n",
       "\n",
       "    .dataframe tbody tr th {\n",
       "        vertical-align: top;\n",
       "    }\n",
       "\n",
       "    .dataframe thead th {\n",
       "        text-align: right;\n",
       "    }\n",
       "</style>\n",
       "<table border=\"1\" class=\"dataframe\">\n",
       "  <thead>\n",
       "    <tr style=\"text-align: right;\">\n",
       "      <th></th>\n",
       "      <th>COD_REG</th>\n",
       "      <th>COD_PRO</th>\n",
       "      <th>COD_COM</th>\n",
       "      <th>NAME_COM</th>\n",
       "      <th>geometry</th>\n",
       "      <th>NAME_PRO</th>\n",
       "      <th>NAME_REG</th>\n",
       "    </tr>\n",
       "  </thead>\n",
       "  <tbody>\n",
       "    <tr>\n",
       "      <th>0</th>\n",
       "      <td>1</td>\n",
       "      <td>4</td>\n",
       "      <td>4033</td>\n",
       "      <td>Brossasco</td>\n",
       "      <td>POLYGON ((7.28702 44.61072, 7.30248 44.60028, ...</td>\n",
       "      <td>Cuneo</td>\n",
       "      <td>Piemonte</td>\n",
       "    </tr>\n",
       "    <tr>\n",
       "      <th>1</th>\n",
       "      <td>1</td>\n",
       "      <td>4</td>\n",
       "      <td>4034</td>\n",
       "      <td>Busca</td>\n",
       "      <td>POLYGON ((7.51064 44.55156, 7.51302 44.55040, ...</td>\n",
       "      <td>Cuneo</td>\n",
       "      <td>Piemonte</td>\n",
       "    </tr>\n",
       "    <tr>\n",
       "      <th>2</th>\n",
       "      <td>1</td>\n",
       "      <td>4</td>\n",
       "      <td>4035</td>\n",
       "      <td>Camerana</td>\n",
       "      <td>POLYGON ((8.16128 44.45065, 8.16485 44.44369, ...</td>\n",
       "      <td>Cuneo</td>\n",
       "      <td>Piemonte</td>\n",
       "    </tr>\n",
       "    <tr>\n",
       "      <th>3</th>\n",
       "      <td>1</td>\n",
       "      <td>4</td>\n",
       "      <td>4036</td>\n",
       "      <td>Camo</td>\n",
       "      <td>POLYGON ((8.20767 44.69655, 8.20410 44.69307, ...</td>\n",
       "      <td>Cuneo</td>\n",
       "      <td>Piemonte</td>\n",
       "    </tr>\n",
       "    <tr>\n",
       "      <th>4</th>\n",
       "      <td>1</td>\n",
       "      <td>4</td>\n",
       "      <td>4037</td>\n",
       "      <td>Canale</td>\n",
       "      <td>POLYGON ((7.99000 44.82530, 7.99476 44.81834, ...</td>\n",
       "      <td>Cuneo</td>\n",
       "      <td>Piemonte</td>\n",
       "    </tr>\n",
       "  </tbody>\n",
       "</table>\n",
       "</div>"
      ],
      "text/plain": [
       "   COD_REG  COD_PRO  COD_COM   NAME_COM  \\\n",
       "0        1        4     4033  Brossasco   \n",
       "1        1        4     4034      Busca   \n",
       "2        1        4     4035   Camerana   \n",
       "3        1        4     4036       Camo   \n",
       "4        1        4     4037     Canale   \n",
       "\n",
       "                                            geometry NAME_PRO  NAME_REG  \n",
       "0  POLYGON ((7.28702 44.61072, 7.30248 44.60028, ...    Cuneo  Piemonte  \n",
       "1  POLYGON ((7.51064 44.55156, 7.51302 44.55040, ...    Cuneo  Piemonte  \n",
       "2  POLYGON ((8.16128 44.45065, 8.16485 44.44369, ...    Cuneo  Piemonte  \n",
       "3  POLYGON ((8.20767 44.69655, 8.20410 44.69307, ...    Cuneo  Piemonte  \n",
       "4  POLYGON ((7.99000 44.82530, 7.99476 44.81834, ...    Cuneo  Piemonte  "
      ]
     },
     "execution_count": 15,
     "metadata": {},
     "output_type": "execute_result"
    }
   ],
   "source": [
    "# add region and province names to geojson cities file\n",
    "italy_cities = pd.merge(italy_cities, provinces,on=\"COD_PRO\")\n",
    "italy_cities = pd.merge(italy_cities, regions,on=\"COD_REG\")\n",
    "italy_cities.head()"
   ]
  },
  {
   "cell_type": "code",
   "execution_count": 16,
   "id": "8966f0a2",
   "metadata": {},
   "outputs": [
    {
     "data": {
      "text/html": [
       "<div>\n",
       "<style scoped>\n",
       "    .dataframe tbody tr th:only-of-type {\n",
       "        vertical-align: middle;\n",
       "    }\n",
       "\n",
       "    .dataframe tbody tr th {\n",
       "        vertical-align: top;\n",
       "    }\n",
       "\n",
       "    .dataframe thead th {\n",
       "        text-align: right;\n",
       "    }\n",
       "</style>\n",
       "<table border=\"1\" class=\"dataframe\">\n",
       "  <thead>\n",
       "    <tr style=\"text-align: right;\">\n",
       "      <th></th>\n",
       "      <th>latitude</th>\n",
       "      <th>longitude</th>\n",
       "      <th>ppe</th>\n",
       "      <th>osm_id</th>\n",
       "      <th>road</th>\n",
       "      <th>timestamp</th>\n",
       "      <th>geometry</th>\n",
       "      <th>index_right</th>\n",
       "      <th>COD_REG</th>\n",
       "      <th>COD_PRO</th>\n",
       "      <th>COD_COM</th>\n",
       "      <th>NAME_COM</th>\n",
       "      <th>NAME_PRO</th>\n",
       "      <th>NAME_REG</th>\n",
       "    </tr>\n",
       "  </thead>\n",
       "  <tbody>\n",
       "    <tr>\n",
       "      <th>0</th>\n",
       "      <td>42.823688</td>\n",
       "      <td>12.399041</td>\n",
       "      <td>0.249243</td>\n",
       "      <td>223578221</td>\n",
       "      <td>trunk</td>\n",
       "      <td>2018-03-20 13:11:32.790807</td>\n",
       "      <td>POINT (12.39904 42.82369)</td>\n",
       "      <td>5800.0</td>\n",
       "      <td>10.0</td>\n",
       "      <td>54.0</td>\n",
       "      <td>54052.0</td>\n",
       "      <td>Todi</td>\n",
       "      <td>Perugia</td>\n",
       "      <td>Umbria</td>\n",
       "    </tr>\n",
       "    <tr>\n",
       "      <th>1</th>\n",
       "      <td>42.823504</td>\n",
       "      <td>12.399083</td>\n",
       "      <td>0.289182</td>\n",
       "      <td>223578221</td>\n",
       "      <td>trunk</td>\n",
       "      <td>2018-03-20 13:11:32.790807</td>\n",
       "      <td>POINT (12.39908 42.82350)</td>\n",
       "      <td>5800.0</td>\n",
       "      <td>10.0</td>\n",
       "      <td>54.0</td>\n",
       "      <td>54052.0</td>\n",
       "      <td>Todi</td>\n",
       "      <td>Perugia</td>\n",
       "      <td>Umbria</td>\n",
       "    </tr>\n",
       "    <tr>\n",
       "      <th>2</th>\n",
       "      <td>42.825936</td>\n",
       "      <td>12.398878</td>\n",
       "      <td>0.253153</td>\n",
       "      <td>223578221</td>\n",
       "      <td>trunk</td>\n",
       "      <td>2018-03-20 13:11:32.790807</td>\n",
       "      <td>POINT (12.39888 42.82594)</td>\n",
       "      <td>5800.0</td>\n",
       "      <td>10.0</td>\n",
       "      <td>54.0</td>\n",
       "      <td>54052.0</td>\n",
       "      <td>Todi</td>\n",
       "      <td>Perugia</td>\n",
       "      <td>Umbria</td>\n",
       "    </tr>\n",
       "    <tr>\n",
       "      <th>3</th>\n",
       "      <td>42.825747</td>\n",
       "      <td>12.398865</td>\n",
       "      <td>0.262400</td>\n",
       "      <td>223578221</td>\n",
       "      <td>trunk</td>\n",
       "      <td>2018-03-20 13:11:32.790807</td>\n",
       "      <td>POINT (12.39886 42.82575)</td>\n",
       "      <td>5800.0</td>\n",
       "      <td>10.0</td>\n",
       "      <td>54.0</td>\n",
       "      <td>54052.0</td>\n",
       "      <td>Todi</td>\n",
       "      <td>Perugia</td>\n",
       "      <td>Umbria</td>\n",
       "    </tr>\n",
       "    <tr>\n",
       "      <th>4</th>\n",
       "      <td>42.825559</td>\n",
       "      <td>12.398853</td>\n",
       "      <td>0.543022</td>\n",
       "      <td>223578221</td>\n",
       "      <td>trunk</td>\n",
       "      <td>2018-03-20 13:11:32.790807</td>\n",
       "      <td>POINT (12.39885 42.82556)</td>\n",
       "      <td>5800.0</td>\n",
       "      <td>10.0</td>\n",
       "      <td>54.0</td>\n",
       "      <td>54052.0</td>\n",
       "      <td>Todi</td>\n",
       "      <td>Perugia</td>\n",
       "      <td>Umbria</td>\n",
       "    </tr>\n",
       "  </tbody>\n",
       "</table>\n",
       "</div>"
      ],
      "text/plain": [
       "    latitude  longitude       ppe     osm_id   road  \\\n",
       "0  42.823688  12.399041  0.249243  223578221  trunk   \n",
       "1  42.823504  12.399083  0.289182  223578221  trunk   \n",
       "2  42.825936  12.398878  0.253153  223578221  trunk   \n",
       "3  42.825747  12.398865  0.262400  223578221  trunk   \n",
       "4  42.825559  12.398853  0.543022  223578221  trunk   \n",
       "\n",
       "                    timestamp                   geometry  index_right  \\\n",
       "0  2018-03-20 13:11:32.790807  POINT (12.39904 42.82369)       5800.0   \n",
       "1  2018-03-20 13:11:32.790807  POINT (12.39908 42.82350)       5800.0   \n",
       "2  2018-03-20 13:11:32.790807  POINT (12.39888 42.82594)       5800.0   \n",
       "3  2018-03-20 13:11:32.790807  POINT (12.39886 42.82575)       5800.0   \n",
       "4  2018-03-20 13:11:32.790807  POINT (12.39885 42.82556)       5800.0   \n",
       "\n",
       "   COD_REG  COD_PRO  COD_COM NAME_COM NAME_PRO NAME_REG  \n",
       "0     10.0     54.0  54052.0     Todi  Perugia   Umbria  \n",
       "1     10.0     54.0  54052.0     Todi  Perugia   Umbria  \n",
       "2     10.0     54.0  54052.0     Todi  Perugia   Umbria  \n",
       "3     10.0     54.0  54052.0     Todi  Perugia   Umbria  \n",
       "4     10.0     54.0  54052.0     Todi  Perugia   Umbria  "
      ]
     },
     "execution_count": 16,
     "metadata": {},
     "output_type": "execute_result"
    }
   ],
   "source": [
    "# spatial left join to add city, province, region names to dataset points \n",
    "geo_df_cities = geo_df.sjoin(italy_cities, how=\"left\")\n",
    "geo_df_cities.head()"
   ]
  },
  {
   "cell_type": "code",
   "execution_count": 17,
   "id": "117c82f9",
   "metadata": {},
   "outputs": [],
   "source": [
    "# extract points mapped to Italian cities\n",
    "geo_df_cities = geo_df_cities[geo_df_cities[\"NAME_COM\"].notna()]"
   ]
  },
  {
   "cell_type": "code",
   "execution_count": 18,
   "id": "0a782e86",
   "metadata": {},
   "outputs": [],
   "source": [
    "# save updated dataframe\n",
    "geo_df_cities.drop('geometry',axis=1).to_csv(r'Italy_ppe.csv') "
   ]
  },
  {
   "cell_type": "code",
   "execution_count": 19,
   "id": "c0c07f63",
   "metadata": {},
   "outputs": [],
   "source": [
    "# drop geometry data\n",
    "df = geo_df_cities.drop('geometry',axis=1)"
   ]
  },
  {
   "cell_type": "markdown",
   "id": "eab7dd41",
   "metadata": {},
   "source": [
    "### STATISTICAL MODELLING\n"
   ]
  },
  {
   "cell_type": "code",
   "execution_count": 55,
   "id": "27b53e9c",
   "metadata": {},
   "outputs": [
    {
     "data": {
      "text/html": [
       "<div>\n",
       "<style scoped>\n",
       "    .dataframe tbody tr th:only-of-type {\n",
       "        vertical-align: middle;\n",
       "    }\n",
       "\n",
       "    .dataframe tbody tr th {\n",
       "        vertical-align: top;\n",
       "    }\n",
       "\n",
       "    .dataframe thead th {\n",
       "        text-align: right;\n",
       "    }\n",
       "</style>\n",
       "<table border=\"1\" class=\"dataframe\">\n",
       "  <thead>\n",
       "    <tr style=\"text-align: right;\">\n",
       "      <th></th>\n",
       "      <th>latitude</th>\n",
       "      <th>longitude</th>\n",
       "      <th>ppe</th>\n",
       "      <th>osm_id</th>\n",
       "      <th>road</th>\n",
       "      <th>timestamp</th>\n",
       "      <th>index_right</th>\n",
       "      <th>COD_REG</th>\n",
       "      <th>COD_PRO</th>\n",
       "      <th>COD_COM</th>\n",
       "      <th>NAME_COM</th>\n",
       "      <th>NAME_PRO</th>\n",
       "      <th>NAME_REG</th>\n",
       "    </tr>\n",
       "  </thead>\n",
       "  <tbody>\n",
       "    <tr>\n",
       "      <th>0</th>\n",
       "      <td>42.823688</td>\n",
       "      <td>12.399041</td>\n",
       "      <td>0.249243</td>\n",
       "      <td>223578221</td>\n",
       "      <td>trunk</td>\n",
       "      <td>2018-03-20 13:11:32.790807</td>\n",
       "      <td>5800.0</td>\n",
       "      <td>10.0</td>\n",
       "      <td>54.0</td>\n",
       "      <td>54052.0</td>\n",
       "      <td>Todi</td>\n",
       "      <td>Perugia</td>\n",
       "      <td>Umbria</td>\n",
       "    </tr>\n",
       "    <tr>\n",
       "      <th>1</th>\n",
       "      <td>42.823504</td>\n",
       "      <td>12.399083</td>\n",
       "      <td>0.289182</td>\n",
       "      <td>223578221</td>\n",
       "      <td>trunk</td>\n",
       "      <td>2018-03-20 13:11:32.790807</td>\n",
       "      <td>5800.0</td>\n",
       "      <td>10.0</td>\n",
       "      <td>54.0</td>\n",
       "      <td>54052.0</td>\n",
       "      <td>Todi</td>\n",
       "      <td>Perugia</td>\n",
       "      <td>Umbria</td>\n",
       "    </tr>\n",
       "    <tr>\n",
       "      <th>2</th>\n",
       "      <td>42.825936</td>\n",
       "      <td>12.398878</td>\n",
       "      <td>0.253153</td>\n",
       "      <td>223578221</td>\n",
       "      <td>trunk</td>\n",
       "      <td>2018-03-20 13:11:32.790807</td>\n",
       "      <td>5800.0</td>\n",
       "      <td>10.0</td>\n",
       "      <td>54.0</td>\n",
       "      <td>54052.0</td>\n",
       "      <td>Todi</td>\n",
       "      <td>Perugia</td>\n",
       "      <td>Umbria</td>\n",
       "    </tr>\n",
       "    <tr>\n",
       "      <th>3</th>\n",
       "      <td>42.825747</td>\n",
       "      <td>12.398865</td>\n",
       "      <td>0.262400</td>\n",
       "      <td>223578221</td>\n",
       "      <td>trunk</td>\n",
       "      <td>2018-03-20 13:11:32.790807</td>\n",
       "      <td>5800.0</td>\n",
       "      <td>10.0</td>\n",
       "      <td>54.0</td>\n",
       "      <td>54052.0</td>\n",
       "      <td>Todi</td>\n",
       "      <td>Perugia</td>\n",
       "      <td>Umbria</td>\n",
       "    </tr>\n",
       "    <tr>\n",
       "      <th>4</th>\n",
       "      <td>42.825559</td>\n",
       "      <td>12.398853</td>\n",
       "      <td>0.543022</td>\n",
       "      <td>223578221</td>\n",
       "      <td>trunk</td>\n",
       "      <td>2018-03-20 13:11:32.790807</td>\n",
       "      <td>5800.0</td>\n",
       "      <td>10.0</td>\n",
       "      <td>54.0</td>\n",
       "      <td>54052.0</td>\n",
       "      <td>Todi</td>\n",
       "      <td>Perugia</td>\n",
       "      <td>Umbria</td>\n",
       "    </tr>\n",
       "  </tbody>\n",
       "</table>\n",
       "</div>"
      ],
      "text/plain": [
       "    latitude  longitude       ppe     osm_id   road  \\\n",
       "0  42.823688  12.399041  0.249243  223578221  trunk   \n",
       "1  42.823504  12.399083  0.289182  223578221  trunk   \n",
       "2  42.825936  12.398878  0.253153  223578221  trunk   \n",
       "3  42.825747  12.398865  0.262400  223578221  trunk   \n",
       "4  42.825559  12.398853  0.543022  223578221  trunk   \n",
       "\n",
       "                    timestamp  index_right  COD_REG  COD_PRO  COD_COM  \\\n",
       "0  2018-03-20 13:11:32.790807       5800.0     10.0     54.0  54052.0   \n",
       "1  2018-03-20 13:11:32.790807       5800.0     10.0     54.0  54052.0   \n",
       "2  2018-03-20 13:11:32.790807       5800.0     10.0     54.0  54052.0   \n",
       "3  2018-03-20 13:11:32.790807       5800.0     10.0     54.0  54052.0   \n",
       "4  2018-03-20 13:11:32.790807       5800.0     10.0     54.0  54052.0   \n",
       "\n",
       "  NAME_COM NAME_PRO NAME_REG  \n",
       "0     Todi  Perugia   Umbria  \n",
       "1     Todi  Perugia   Umbria  \n",
       "2     Todi  Perugia   Umbria  \n",
       "3     Todi  Perugia   Umbria  \n",
       "4     Todi  Perugia   Umbria  "
      ]
     },
     "execution_count": 55,
     "metadata": {},
     "output_type": "execute_result"
    }
   ],
   "source": [
    "# load dataset\n",
    "\n",
    "df = pd.read_csv(\"Italy_ppe.csv\") \n",
    "df = df.drop(columns=\"Unnamed: 0\")\n",
    "df.head()"
   ]
  },
  {
   "cell_type": "code",
   "execution_count": 56,
   "id": "59d42bc0",
   "metadata": {},
   "outputs": [
    {
     "data": {
      "text/html": [
       "<div>\n",
       "<style scoped>\n",
       "    .dataframe tbody tr th:only-of-type {\n",
       "        vertical-align: middle;\n",
       "    }\n",
       "\n",
       "    .dataframe tbody tr th {\n",
       "        vertical-align: top;\n",
       "    }\n",
       "\n",
       "    .dataframe thead th {\n",
       "        text-align: right;\n",
       "    }\n",
       "</style>\n",
       "<table border=\"1\" class=\"dataframe\">\n",
       "  <thead>\n",
       "    <tr style=\"text-align: right;\">\n",
       "      <th></th>\n",
       "      <th>latitude</th>\n",
       "      <th>longitude</th>\n",
       "      <th>ppe</th>\n",
       "      <th>osm_id</th>\n",
       "      <th>road</th>\n",
       "      <th>timestamp</th>\n",
       "      <th>index_right</th>\n",
       "      <th>COD_REG</th>\n",
       "      <th>COD_PRO</th>\n",
       "      <th>COD_COM</th>\n",
       "      <th>NAME_COM</th>\n",
       "      <th>NAME_PRO</th>\n",
       "      <th>NAME_REG</th>\n",
       "      <th>log_ppe</th>\n",
       "    </tr>\n",
       "  </thead>\n",
       "  <tbody>\n",
       "    <tr>\n",
       "      <th>0</th>\n",
       "      <td>42.823688</td>\n",
       "      <td>12.399041</td>\n",
       "      <td>0.249243</td>\n",
       "      <td>223578221</td>\n",
       "      <td>trunk</td>\n",
       "      <td>2018-03-20 13:11:32.790807</td>\n",
       "      <td>5800.0</td>\n",
       "      <td>10.0</td>\n",
       "      <td>54.0</td>\n",
       "      <td>54052.0</td>\n",
       "      <td>Todi</td>\n",
       "      <td>Perugia</td>\n",
       "      <td>Umbria</td>\n",
       "      <td>-1.389328</td>\n",
       "    </tr>\n",
       "    <tr>\n",
       "      <th>1</th>\n",
       "      <td>42.823504</td>\n",
       "      <td>12.399083</td>\n",
       "      <td>0.289182</td>\n",
       "      <td>223578221</td>\n",
       "      <td>trunk</td>\n",
       "      <td>2018-03-20 13:11:32.790807</td>\n",
       "      <td>5800.0</td>\n",
       "      <td>10.0</td>\n",
       "      <td>54.0</td>\n",
       "      <td>54052.0</td>\n",
       "      <td>Todi</td>\n",
       "      <td>Perugia</td>\n",
       "      <td>Umbria</td>\n",
       "      <td>-1.240700</td>\n",
       "    </tr>\n",
       "    <tr>\n",
       "      <th>2</th>\n",
       "      <td>42.825936</td>\n",
       "      <td>12.398878</td>\n",
       "      <td>0.253153</td>\n",
       "      <td>223578221</td>\n",
       "      <td>trunk</td>\n",
       "      <td>2018-03-20 13:11:32.790807</td>\n",
       "      <td>5800.0</td>\n",
       "      <td>10.0</td>\n",
       "      <td>54.0</td>\n",
       "      <td>54052.0</td>\n",
       "      <td>Todi</td>\n",
       "      <td>Perugia</td>\n",
       "      <td>Umbria</td>\n",
       "      <td>-1.373763</td>\n",
       "    </tr>\n",
       "    <tr>\n",
       "      <th>3</th>\n",
       "      <td>42.825747</td>\n",
       "      <td>12.398865</td>\n",
       "      <td>0.262400</td>\n",
       "      <td>223578221</td>\n",
       "      <td>trunk</td>\n",
       "      <td>2018-03-20 13:11:32.790807</td>\n",
       "      <td>5800.0</td>\n",
       "      <td>10.0</td>\n",
       "      <td>54.0</td>\n",
       "      <td>54052.0</td>\n",
       "      <td>Todi</td>\n",
       "      <td>Perugia</td>\n",
       "      <td>Umbria</td>\n",
       "      <td>-1.337885</td>\n",
       "    </tr>\n",
       "    <tr>\n",
       "      <th>4</th>\n",
       "      <td>42.825559</td>\n",
       "      <td>12.398853</td>\n",
       "      <td>0.543022</td>\n",
       "      <td>223578221</td>\n",
       "      <td>trunk</td>\n",
       "      <td>2018-03-20 13:11:32.790807</td>\n",
       "      <td>5800.0</td>\n",
       "      <td>10.0</td>\n",
       "      <td>54.0</td>\n",
       "      <td>54052.0</td>\n",
       "      <td>Todi</td>\n",
       "      <td>Perugia</td>\n",
       "      <td>Umbria</td>\n",
       "      <td>-0.610605</td>\n",
       "    </tr>\n",
       "  </tbody>\n",
       "</table>\n",
       "</div>"
      ],
      "text/plain": [
       "    latitude  longitude       ppe     osm_id   road  \\\n",
       "0  42.823688  12.399041  0.249243  223578221  trunk   \n",
       "1  42.823504  12.399083  0.289182  223578221  trunk   \n",
       "2  42.825936  12.398878  0.253153  223578221  trunk   \n",
       "3  42.825747  12.398865  0.262400  223578221  trunk   \n",
       "4  42.825559  12.398853  0.543022  223578221  trunk   \n",
       "\n",
       "                    timestamp  index_right  COD_REG  COD_PRO  COD_COM  \\\n",
       "0  2018-03-20 13:11:32.790807       5800.0     10.0     54.0  54052.0   \n",
       "1  2018-03-20 13:11:32.790807       5800.0     10.0     54.0  54052.0   \n",
       "2  2018-03-20 13:11:32.790807       5800.0     10.0     54.0  54052.0   \n",
       "3  2018-03-20 13:11:32.790807       5800.0     10.0     54.0  54052.0   \n",
       "4  2018-03-20 13:11:32.790807       5800.0     10.0     54.0  54052.0   \n",
       "\n",
       "  NAME_COM NAME_PRO NAME_REG   log_ppe  \n",
       "0     Todi  Perugia   Umbria -1.389328  \n",
       "1     Todi  Perugia   Umbria -1.240700  \n",
       "2     Todi  Perugia   Umbria -1.373763  \n",
       "3     Todi  Perugia   Umbria -1.337885  \n",
       "4     Todi  Perugia   Umbria -0.610605  "
      ]
     },
     "execution_count": 56,
     "metadata": {},
     "output_type": "execute_result"
    }
   ],
   "source": [
    "# remove outliers top as in Alessandroni et al. 2014\n",
    "df = df[(df[\"ppe\"] > 0.001 ) & (df[\"ppe\"] < 4)]  \n",
    "\n",
    "# remove bottom 1%\n",
    "df = df[df[\"ppe\"] > df[\"ppe\"].quantile(0.01) ] \n",
    "\n",
    "# calculate logarithm of ppe\n",
    "df[\"log_ppe\"] = np.log(df[\"ppe\"])\n",
    "\n",
    "df.head() "
   ]
  },
  {
   "cell_type": "code",
   "execution_count": 57,
   "id": "2721f2c6",
   "metadata": {},
   "outputs": [
    {
     "data": {
      "image/png": "[encoded data removed]",
      "text/plain": [
       "<Figure size 288x288 with 1 Axes>"
      ]
     },
     "metadata": {},
     "output_type": "display_data"
    }
   ],
   "source": [
    "# plot ppe distribution and best fit normal distribution\n",
    "\n",
    "rcParams['figure.figsize'] = [4, 4]\n",
    "\n",
    "from scipy.stats import norm\n",
    "\n",
    "d = df[\"ppe\"]\n",
    "# plot density distribution\n",
    "sns.histplot(data = d,bins = 100, stat = \"density\")\n",
    "\n",
    "# plot best fit normal distribution\n",
    "mu, std = norm.fit(d)\n",
    "x = np.linspace(-1, 1, 1000)\n",
    "p = norm.pdf(x, mu, std)\n",
    "plt.plot(x, p, 'k', linewidth=1, ls = \"--\")\n",
    "plt.xlim([-0.5,1])\n",
    "x1 = np.linspace(-1, 0, 100)\n",
    "p1 = norm.pdf(x1, mu, std)\n",
    "plt.fill_between(x1,p1)\n",
    "plt.xlabel(\"$P_{PE}$\")\n",
    "plt.tight_layout()\n",
    "#plt.savefig(\"fig1a_\", format='svg', transparent=True)\n",
    "plt.show()"
   ]
  },
  {
   "cell_type": "code",
   "execution_count": 58,
   "id": "bdc8e8cb",
   "metadata": {},
   "outputs": [
    {
     "name": "stdout",
     "output_type": "stream",
     "text": [
      "-0.629 1.067\n"
     ]
    }
   ],
   "source": [
    "# interval within 3 standard deviations\n",
    "print(round(mu - 3*std,3), round(mu + 3*std,3))"
   ]
  },
  {
   "cell_type": "code",
   "execution_count": 10,
   "id": "f765e374",
   "metadata": {},
   "outputs": [
    {
     "data": {
      "image/png": "[encoded data removed]",
      "text/plain": [
       "<Figure size 288x288 with 1 Axes>"
      ]
     },
     "metadata": {},
     "output_type": "display_data"
    }
   ],
   "source": [
    "# plot cumulative distribution of ppe and best fit normal distribution\n",
    "\n",
    "rcParams['figure.figsize'] = [4, 4]\n",
    "\n",
    "from scipy.stats import norm\n",
    "\n",
    "d = df[\"ppe\"]\n",
    "# plot cumulative distribution of ppe\n",
    "sns.histplot(data = d,bins = 100, stat = \"probability\", cumulative = True)\n",
    "\n",
    "# plot cumulative distribution of best fit normal distribution\n",
    "mu, std = norm.fit(d)\n",
    "x = np.linspace(-1, 1, 1000)\n",
    "p = norm.cdf(x, mu, std)\n",
    "plt.plot(x, p, 'k', linewidth=1, ls = \"--\")\n",
    "plt.xlim([-0.5,1])\n",
    "x1 = np.linspace(-1, 0, 100)\n",
    "p1 = norm.cdf(x1, mu, std)\n",
    "plt.ylabel(\"cumulative distribution function\")\n",
    "plt.fill_between(x1,p1)\n",
    "plt.xlabel(\"$P_{PE}$\")\n",
    "plt.tight_layout()\n",
    "#plt.savefig(\"fig1b_\", format='svg', transparent=True)\n",
    "plt.show()"
   ]
  },
  {
   "cell_type": "code",
   "execution_count": 60,
   "id": "ca4c9c1c",
   "metadata": {},
   "outputs": [
    {
     "name": "stdout",
     "output_type": "stream",
     "text": [
      "0.21941511619355006 0.2826512602065321\n"
     ]
    }
   ],
   "source": [
    "# calculate mean and standard deviation of the ppe\n",
    "d = df[\"ppe\"]\n",
    "mudf = d.mean()\n",
    "stddf = d.std()\n",
    "print(mudf, stddf)"
   ]
  },
  {
   "cell_type": "code",
   "execution_count": 12,
   "id": "fd5781e5",
   "metadata": {},
   "outputs": [
    {
     "data": {
      "text/plain": [
       "4.247933784637891"
      ]
     },
     "execution_count": 12,
     "metadata": {},
     "output_type": "execute_result"
    }
   ],
   "source": [
    "# calculate skewness\n",
    "d.skew()"
   ]
  },
  {
   "cell_type": "code",
   "execution_count": 13,
   "id": "94e1b484",
   "metadata": {},
   "outputs": [
    {
     "data": {
      "image/png": "[encoded data removed]",
      "text/plain": [
       "<Figure size 288x288 with 1 Axes>"
      ]
     },
     "metadata": {},
     "output_type": "display_data"
    }
   ],
   "source": [
    "rcParams['figure.figsize'] = [4, 4]\n",
    "\n",
    "from scipy.stats import norm\n",
    "\n",
    "d = df[\"ppe\"]\n",
    "sns.histplot(data = d,bins = 100, stat = \"density\")\n",
    "\n",
    "plt.axvline(x=mudf, ls = \"--\", color = \"k\")\n",
    "plt.axvline(x=mudf + stddf, ls = \"--\" , color = \"r\")\n",
    "plt.axvline(x=mudf + 2*stddf, ls = \"--\", color = \"y\")\n",
    "plt.axvline(x=mudf + 3*stddf, ls = \"--\", color = \"g\")\n",
    "plt.axvline(x=mudf - stddf, ls = \"--\" , color = \"r\")\n",
    "#plt.axvline(x=mudf - 2*stddf, ls = \"--\", color = \"b\")\n",
    "#plt.axvline(x=mudf - 3*stddf, ls = \"--\", color = \"g\")\n",
    "plt.xlim([-0.2,1.2])\n",
    "plt.xticks(color = \"w\")\n",
    "plt.text( x = mudf-0.05, y = -0.2, s = \"$\\mu$\")\n",
    "plt.text( x = mudf - stddf -0.1, y = -0.2, s = \"$\\mu - \\sigma$\")\n",
    "plt.text( x = mudf + stddf -0.1, y = -0.2, s = \"$\\mu + \\sigma$\")\n",
    "plt.text( x = mudf + 2*stddf -0.1, y = -0.2, s = \"$\\mu + 2\\sigma$\")\n",
    "plt.text( x = mudf + 3*stddf -0.1, y = -0.2, s = \"$\\mu + 3\\sigma$\")\n",
    "plt.xlabel(\"$P_{PE}$\")\n",
    "plt.tight_layout()\n",
    "#plt.savefig(\"fig2_\", format='svg', transparent=True)\n",
    "plt.show()"
   ]
  },
  {
   "cell_type": "code",
   "execution_count": 61,
   "id": "8e3846bf",
   "metadata": {},
   "outputs": [
    {
     "data": {
      "text/plain": [
       "90.6"
      ]
     },
     "execution_count": 61,
     "metadata": {},
     "output_type": "execute_result"
    }
   ],
   "source": [
    "# calculate percentage of point within one standard deviation from the mean\n",
    "round(len(d[(d > (mudf - stddf)) & ( d < (mudf + stddf))])/len(d)*100,1)"
   ]
  },
  {
   "cell_type": "code",
   "execution_count": 62,
   "id": "8798bf4f",
   "metadata": {},
   "outputs": [
    {
     "name": "stdout",
     "output_type": "stream",
     "text": [
      "-0.063 0.502\n"
     ]
    }
   ],
   "source": [
    "# interval within one standard deviation from the mean\n",
    "print(round(mudf - stddf,3), round(mudf + stddf,3))"
   ]
  },
  {
   "cell_type": "code",
   "execution_count": 63,
   "id": "a91a77bf",
   "metadata": {},
   "outputs": [
    {
     "data": {
      "text/plain": [
       "69.1"
      ]
     },
     "execution_count": 63,
     "metadata": {},
     "output_type": "execute_result"
    }
   ],
   "source": [
    "# calculate percentage of points below the mean\n",
    "round(len(d[ d < mudf ])/len(d)*100,1)"
   ]
  },
  {
   "cell_type": "code",
   "execution_count": 64,
   "id": "99f485ae",
   "metadata": {},
   "outputs": [],
   "source": [
    "# calculate mean and standard deviation of the transformed ppe\n",
    "d = df[\"log_ppe\"]\n",
    "muldf = d.mean()\n",
    "stdldf = d.std()"
   ]
  },
  {
   "cell_type": "code",
   "execution_count": 65,
   "id": "e91a021a",
   "metadata": {},
   "outputs": [
    {
     "data": {
      "image/png": "[encoded data removed]",
      "text/plain": [
       "<Figure size 360x288 with 1 Axes>"
      ]
     },
     "metadata": {},
     "output_type": "display_data"
    }
   ],
   "source": [
    "# plot aritmetic mean and standard deviation in the transformed domain\n",
    "\n",
    "rcParams['figure.figsize'] = [5, 4]\n",
    "\n",
    "from scipy.stats import norm\n",
    "\n",
    "d = df[\"log_ppe\"]\n",
    "sns.histplot(data = d,bins = 50, stat = \"density\")\n",
    "\n",
    "plt.axvline(x=muldf, ls = \"--\", color = \"k\")\n",
    "plt.axvline(x=muldf + stdldf, ls = \"--\" , color = \"r\")\n",
    "plt.axvline(x=muldf + 2*stdldf, ls = \"--\", color = \"y\")\n",
    "plt.axvline(x=muldf + 3*stdldf, ls = \"--\", color = \"g\")\n",
    "plt.axvline(x=muldf - stdldf, ls = \"--\" , color = \"r\")\n",
    "plt.axvline(x=muldf - 2*stdldf, ls = \"--\", color = \"y\")\n",
    "plt.axvline(x=muldf - 3*stdldf, ls = \"--\", color = \"g\")\n",
    "plt.xlim([-6,2])\n",
    "plt.xlabel(\"ln($P_{PE}$)\")\n",
    "plt.xticks(color = \"w\")\n",
    "\n",
    "spacing = - 0.2\n",
    "plt.text( x = muldf, y = -0.02, s = \"$\\mu$\", fontsize = 10)\n",
    "plt.text( x = muldf - stdldf + spacing, y = -0.02, s = \"$\\mu-\\sigma$\", fontsize = 10)\n",
    "plt.text( x = muldf - 2*stdldf + spacing , y = -0.02, s = \"$\\mu-2\\sigma$\", fontsize = 10)\n",
    "plt.text( x = muldf - 3*stdldf + spacing , y = -0.02, s = \"$\\mu-3\\sigma$\", fontsize = 10)\n",
    "plt.text( x = muldf + stdldf + spacing , y = -0.02, s = \"$\\mu+\\sigma$\", fontsize = 10)\n",
    "plt.text( x = muldf + 2*stdldf + spacing , y = -0.02, s = \"$\\mu+2\\sigma$\", fontsize = 10)\n",
    "plt.text( x = muldf + 3*stdldf + spacing , y = -0.02, s = \"$\\mu+3\\sigma$\", fontsize = 10)\n",
    "plt.tight_layout()\n",
    "#plt.savefig(\"fig3a_\", format='svg', transparent=True)\n",
    "plt.show()"
   ]
  },
  {
   "cell_type": "code",
   "execution_count": 67,
   "id": "ced799c7",
   "metadata": {},
   "outputs": [
    {
     "data": {
      "text/plain": [
       "68.8"
      ]
     },
     "execution_count": 67,
     "metadata": {},
     "output_type": "execute_result"
    }
   ],
   "source": [
    "# calculate n of points within 1,2,3 standard deviation in the transformed domain\n",
    "\n",
    "round(len(d[(d > (muldf - 1*stdldf)) & ( d < (muldf + 1*stdldf))])/len(d)*100,1)"
   ]
  },
  {
   "cell_type": "code",
   "execution_count": 68,
   "id": "5905372c",
   "metadata": {},
   "outputs": [
    {
     "data": {
      "text/plain": [
       "95.0"
      ]
     },
     "execution_count": 68,
     "metadata": {},
     "output_type": "execute_result"
    }
   ],
   "source": [
    "round(len(d[(d > (muldf - 2*stdldf)) & ( d < (muldf + 2*stdldf))])/len(d)*100,1)"
   ]
  },
  {
   "cell_type": "code",
   "execution_count": 69,
   "id": "834a2836",
   "metadata": {},
   "outputs": [
    {
     "data": {
      "text/plain": [
       "99.9"
      ]
     },
     "execution_count": 69,
     "metadata": {},
     "output_type": "execute_result"
    }
   ],
   "source": [
    "round(len(d[(d > (muldf - 3*stdldf)) & ( d < (muldf + 3*stdldf))])/len(d)*100,1)"
   ]
  },
  {
   "cell_type": "code",
   "execution_count": 71,
   "id": "179d0433",
   "metadata": {},
   "outputs": [
    {
     "data": {
      "text/plain": [
       "49.2"
      ]
     },
     "execution_count": 71,
     "metadata": {},
     "output_type": "execute_result"
    }
   ],
   "source": [
    "# calculate percentage of points below the mean\n",
    "\n",
    "round(len(d[ d < muldf ])/len(d)*100,1)"
   ]
  },
  {
   "cell_type": "code",
   "execution_count": 72,
   "id": "7c33f764",
   "metadata": {},
   "outputs": [
    {
     "data": {
      "text/plain": [
       "-0.11313469758788289"
      ]
     },
     "execution_count": 72,
     "metadata": {},
     "output_type": "execute_result"
    }
   ],
   "source": [
    "# calculate the skewness\n",
    "\n",
    "d.skew()"
   ]
  },
  {
   "cell_type": "code",
   "execution_count": 37,
   "id": "bcf003aa",
   "metadata": {},
   "outputs": [
    {
     "data": {
      "image/png": "[encoded data removed]",
      "text/plain": [
       "<Figure size 360x288 with 1 Axes>"
      ]
     },
     "metadata": {},
     "output_type": "display_data"
    }
   ],
   "source": [
    "d = df[\"log_ppe\"]\n",
    "\n",
    "# calculate observed frequency\n",
    "histo, bin_edges = np.histogram(d, bins=40)\n",
    "number_of_bins = len(bin_edges) - 1\n",
    "observed_values = histo\n",
    "\n",
    "# calculate expected frequency\n",
    "np.set_printoptions(suppress=True)\n",
    "mu, std = norm.fit(d)\n",
    "cdf = norm.cdf(bin_edges,mu, std)\n",
    "expected_values = len(d) * np.diff(cdf)\n",
    "\n",
    "# plot\n",
    "sns.barplot(x = bin_edges[1:],y = observed_values, color = \"red\", alpha = 0.4,  label = \"observed freq\")\n",
    "sns.barplot(x = bin_edges[1:],y = expected_values, color = \"blue\", alpha = 0.4,  label = \"expected freq\")\n",
    "plt.legend(fontsize = 10)\n",
    "\n",
    "#plt.xlim([-5,1])\n",
    "plt.xticks([])\n",
    "plt.yticks(fontsize = 10)\n",
    "plt.tight_layout()\n",
    "#plt.savefig(\"fig4a_\", format='svg', transparent=True)\n",
    "plt.show()"
   ]
  },
  {
   "cell_type": "code",
   "execution_count": 45,
   "id": "1bf989ad",
   "metadata": {},
   "outputs": [
    {
     "data": {
      "text/plain": [
       "0.9542189106778983"
      ]
     },
     "execution_count": 45,
     "metadata": {},
     "output_type": "execute_result"
    }
   ],
   "source": [
    "# compare a sample of the tranform data to the best fit normal distribution\n",
    "import random\n",
    "\n",
    "# size of the sample\n",
    "s = 1000\n",
    "# normal distribution parameters\n",
    "mu, std = norm.fit(df[\"log_ppe\"])\n",
    "# extract a random sample\n",
    "sampled = random.sample(list(df[\"log_ppe\"]),s)\n",
    "# apply the Kolmogorov-Smirnov test\n",
    "c,pv = stats.kstest(stats.norm.rvs(loc = mu, scale = std, size=s), sampled)\n",
    "# p-value\n",
    "pv"
   ]
  },
  {
   "cell_type": "code",
   "execution_count": 48,
   "id": "5ad591cc",
   "metadata": {},
   "outputs": [
    {
     "data": {
      "image/png": "[encoded data removed]",
      "text/plain": [
       "<Figure size 288x288 with 1 Axes>"
      ]
     },
     "metadata": {},
     "output_type": "display_data"
    }
   ],
   "source": [
    "rcParams['figure.figsize'] = [4, 4]\n",
    "# plot sampled data\n",
    "sns.histplot(data = sampled, bins = 50, stat = \"density\")\n",
    "x = np.linspace(-5, 1, 1000)\n",
    "p = norm.pdf(x, mu, std)\n",
    "plt.plot(x, p, 'k', linewidth=1, ls = \"--\")\n",
    "plt.title (\"Kolmogorov–Smirnov Test, p-value = \" + str(pv.round(2)))\n",
    "plt.xlabel(\"ln($P_{PE}$)\")\n",
    "plt.tight_layout()\n",
    "#plt.savefig(\"fig4b_\", format='svg', transparent=True)\n",
    "plt.show()"
   ]
  },
  {
   "cell_type": "code",
   "execution_count": 49,
   "id": "926ea0b4",
   "metadata": {},
   "outputs": [
    {
     "data": {
      "text/plain": [
       "0.0"
      ]
     },
     "execution_count": 49,
     "metadata": {},
     "output_type": "execute_result"
    }
   ],
   "source": [
    "# compare a sample of the data to the best fit normal distribution\n",
    "import random\n",
    "\n",
    "# size of the sample\n",
    "s = 1000\n",
    "# normal distribution parameters\n",
    "mu2, std2 = norm.fit(df[\"ppe\"])\n",
    "# extract a random sample\n",
    "sampled2 = random.sample(list(df[\"ppe\"]),s)\n",
    "# apply the Kolmogorov-Smirnov test\n",
    "c2,pv2 = stats.kstest(stats.norm.rvs(loc = mu, scale = std, size=s), sampled2)\n",
    "# p-value\n",
    "pv2"
   ]
  },
  {
   "cell_type": "code",
   "execution_count": 54,
   "id": "17dc0091",
   "metadata": {},
   "outputs": [],
   "source": [
    "# sample the transformed data 1000 times and compare to the transformed normal distribution\n",
    "import random\n",
    "p_val_ppe = []\n",
    "\n",
    "s = 1000\n",
    "\n",
    "for i in range(1000):\n",
    "    sampled_ = random.sample(list(df[\"log_ppe\"]),s)\n",
    "    c,pv = stats.kstest(stats.norm.rvs(loc = mu, scale = std, size=s), sampled_)\n",
    "    p_val_ppe.append(pv)"
   ]
  },
  {
   "cell_type": "code",
   "execution_count": 57,
   "id": "39eef3e7",
   "metadata": {},
   "outputs": [
    {
     "data": {
      "text/plain": [
       "8.3"
      ]
     },
     "execution_count": 57,
     "metadata": {},
     "output_type": "execute_result"
    }
   ],
   "source": [
    "# percentage of significant p-values\n",
    "len(list(filter(lambda x: x < 0.05, p_val_ppe)))/1000*100"
   ]
  },
  {
   "cell_type": "markdown",
   "id": "152f4f91",
   "metadata": {},
   "source": [
    "### ROAD TYPE STRATIFICATION\n"
   ]
  },
  {
   "cell_type": "code",
   "execution_count": 25,
   "id": "2f332a68",
   "metadata": {},
   "outputs": [
    {
     "name": "stdout",
     "output_type": "stream",
     "text": [
      "{'motorway': 'blue', 'trunk': 'darkorange', 'primary': 'green', 'secondary': 'red', 'tertiary': 'gray', 'unclassified': 'violet', 'residential': 'purple'}\n"
     ]
    }
   ],
   "source": [
    "# selected roads - colors dictionary\n",
    "\n",
    "roads = [\"motorway\", \"trunk\", \"primary\", \"secondary\", \"tertiary\",  \"unclassified\", \"residential\"] \n",
    "colors = [\"blue\", \"darkorange\", \"green\", \"red\",  \"gray\",  \"violet\", \"purple\"]\n",
    "\n",
    "zip_iterator = zip(roads, colors)\n",
    "col_dict = dict(zip_iterator)\n",
    "print(col_dict)"
   ]
  },
  {
   "cell_type": "code",
   "execution_count": 45,
   "id": "8e1ddf7c",
   "metadata": {},
   "outputs": [
    {
     "data": {
      "image/png": "[encoded data removed]",
      "text/plain": [
       "<Figure size 360x720 with 8 Axes>"
      ]
     },
     "metadata": {},
     "output_type": "display_data"
    }
   ],
   "source": [
    "# plot road-specific data in the transform domain and calculate best-fit normal distribution\n",
    "\n",
    "rcParams['figure.figsize'] = [5, 10]\n",
    "from scipy.stats import norm\n",
    "\n",
    "#f, ax_list = plt.subplots(1, 7)\n",
    "fig = plt.figure()\n",
    "columns = 2\n",
    "rows = 4\n",
    "\n",
    "# all points\n",
    "fig.add_subplot(rows, columns, 1)\n",
    "data = df[\"log_ppe\"]\n",
    "l = len(data)\n",
    "# plot histo\n",
    "plt.hist(data, bins=25, density=True, alpha=0.4)\n",
    "# plot norm\n",
    "mu, std = norm.fit(data)\n",
    "# Plot the PDF.\n",
    "x = np.linspace(-6, 1, 1000)\n",
    "p = norm.pdf(x, mu, std)\n",
    "plt.plot(x, p, 'k', linewidth=1)\n",
    "q = data.skew().round(3)\n",
    "plt.title(\"all roads\" + \" (\" + str(l) + \" points)\\n\" + \"Fit: $\\mu$ = %.2f,  $\\sigma$ = %.2f \\n\" % (mu, std) + \"skewness = \" + str(q), fontsize = 11)\n",
    "plt.xticks([-6,-5,-4,-3,-2,-1,0,1], fontsize = 10)\n",
    "plt.yticks([0.1,0.2,0.3,0.4,0.5], fontsize = 10)\n",
    "plt.xlabel(\"ln($P_{PE}$)\")\n",
    "    \n",
    "# points by road type\n",
    "for index,road in enumerate(roads):\n",
    "    fig.add_subplot(rows, columns, index + 2)\n",
    "    # calculate observed frequency\n",
    "    data = df[df[\"road\"]==road][\"log_ppe\"]\n",
    "    l = len(data)\n",
    "    # plot histo\n",
    "    plt.hist(data, bins=25, density=True, alpha=0.4, color = col_dict[road])\n",
    "    # plot norm\n",
    "    mu, std = norm.fit(data)\n",
    "    # Plot the PDF.\n",
    "    x = np.linspace(-6, 1, 1000)\n",
    "    p = norm.pdf(x, mu, std)\n",
    "    plt.plot(x, p, 'k', linewidth=1)\n",
    "    q = data.skew().round(3)\n",
    "    plt.title(road + \" (\" + str(l) + \" points)\\n\" + \"Fit: $\\mu$ = %.2f,  $\\sigma$ = %.2f \\n\" % (mu, std) + \"skewness = \" + str(q), fontsize = 11)\n",
    "    plt.xticks([-6,-5,-4,-3,-2,-1,0,1], fontsize = 10)\n",
    "    plt.yticks([0.1,0.2,0.3,0.4,0.5], fontsize = 10)\n",
    "    plt.xlabel(\"ln($P_{PE}$)\")\n",
    "    \n",
    "plt.tight_layout(pad=2)\n",
    "plt.savefig(\"fig5.svg\", format='svg', transparent=True)\n",
    "plt.show()"
   ]
  }
 ],
 "metadata": {
  "kernelspec": {
   "display_name": "Python 3",
   "language": "python",
   "name": "python3"
  },
  "language_info": {
   "codemirror_mode": {
    "name": "ipython",
    "version": 3
   },
   "file_extension": ".py",
   "mimetype": "text/x-python",
   "name": "python",
   "nbconvert_exporter": "python",
   "pygments_lexer": "ipython3",
   "version": "3.8.8"
  }
 },
 "nbformat": 4,
 "nbformat_minor": 5
}
